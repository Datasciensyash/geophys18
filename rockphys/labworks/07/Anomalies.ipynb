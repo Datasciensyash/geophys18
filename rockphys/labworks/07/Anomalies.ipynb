{
  "nbformat": 4,
  "nbformat_minor": 0,
  "metadata": {
    "colab": {
      "name": "Anomalies.ipynb",
      "provenance": [],
      "collapsed_sections": []
    },
    "kernelspec": {
      "name": "python3",
      "display_name": "Python 3"
    }
  },
  "cells": [
    {
      "cell_type": "code",
      "metadata": {
        "id": "wxD7Bgu39kyP",
        "colab_type": "code",
        "colab": {}
      },
      "source": [
        "import numpy as np"
      ],
      "execution_count": 0,
      "outputs": []
    },
    {
      "cell_type": "code",
      "metadata": {
        "id": "nvIDIaY49rCq",
        "colab_type": "code",
        "colab": {}
      },
      "source": [
        "data_1 = [42, 16, 15, 17, 23, 15, 14, 15, 16, 16, 16, 19, 480, 24, 97, 27, 18, 17, 17, 23, 20]\n",
        "data_2 = [15, 15, 16, 19, 70, 55, 30, 20, 16, 16, 18, 20, 600, 40, 100, 25, 38, 18, 15, 17, 29]\n",
        "data_3 = [27, 17, 22, 140, 17, 22, 130, 15, 15, 18, 20, 28, 230, 90, 68, 250, 22, 17, 15, 19, 75]"
      ],
      "execution_count": 0,
      "outputs": []
    },
    {
      "cell_type": "code",
      "metadata": {
        "id": "0y7aOmoJ-sGt",
        "colab_type": "code",
        "colab": {}
      },
      "source": [
        "def check_anomalies(arr):\n",
        "  data = arr.copy()\n",
        "  anomalies = []\n",
        "  while True:\n",
        "    anomalies_count = 0\n",
        "    min_value = np.mean(data) - 3 * np.std(data)\n",
        "    max_value = np.mean(data) + 3 * np.std(data)\n",
        "    print('Мин. аномальная интенсивность (В сторону -inf): ', min_value, 'Мин. аномальная интенсивность (В сторону +inf): ', max_value)\n",
        "    new_data = []\n",
        "    for index, value in enumerate(data):\n",
        "      if (value > max_value) or (value < min_value):\n",
        "        anomalies_count += 1\n",
        "        print('Найдена аномалия: ', value, ' производится перерасчет мин. аномальной интенсивности')\n",
        "        anomalies.append(value)\n",
        "      else:\n",
        "        new_data.append(value)\n",
        "    data = new_data.copy()\n",
        "    if anomalies_count == 0:\n",
        "      print('Аномалий не найдено, финальные значения мин. аномальной интенсивности:', min_value, '/' ,max_value)\n",
        "      break\n",
        "\n",
        "  return anomalies"
      ],
      "execution_count": 0,
      "outputs": []
    },
    {
      "cell_type": "code",
      "metadata": {
        "id": "obIZlCynC5YH",
        "colab_type": "code",
        "outputId": "07335775-a0a4-4cd9-9742-3e95aff5d1ce",
        "colab": {
          "base_uri": "https://localhost:8080/",
          "height": 175
        }
      },
      "source": [
        "print('Аномалии: ', check_anomalies(data_1))"
      ],
      "execution_count": 11,
      "outputs": [
        {
          "output_type": "stream",
          "text": [
            "Мин. аномальная интенсивность (В сторону -inf):  -251.36806451727475 Мин. аномальная интенсивность (В сторону +inf):  341.5585407077509\n",
            "Найдена аномалия:  480  производится перерасчет мин. аномальной интенсивности\n",
            "Мин. аномальная интенсивность (В сторону -inf):  -30.643957995316484 Мин. аномальная интенсивность (В сторону +inf):  77.34395799531649\n",
            "Найдена аномалия:  97  производится перерасчет мин. аномальной интенсивности\n",
            "Мин. аномальная интенсивность (В сторону -inf):  0.3912707322703568 Мин. аномальная интенсивность (В сторону +inf):  38.55609768878227\n",
            "Найдена аномалия:  42  производится перерасчет мин. аномальной интенсивности\n",
            "Мин. аномальная интенсивность (В сторону -inf):  7.426132395087791 Мин. аномальная интенсивность (В сторону +inf):  29.018312049356652\n",
            "Аномалий не найдено, финальные значения мин. аномальной интенсивности: 7.426132395087791 29.018312049356652\n",
            "Аномалии:  [480, 97, 42]\n"
          ],
          "name": "stdout"
        }
      ]
    },
    {
      "cell_type": "code",
      "metadata": {
        "id": "c5U6I436FHqj",
        "colab_type": "code",
        "outputId": "3baefbae-14da-4c84-8aa6-f183755d5a0b",
        "colab": {
          "base_uri": "https://localhost:8080/",
          "height": 140
        }
      },
      "source": [
        "print('Аномалии: ', check_anomalies(data_2))"
      ],
      "execution_count": 13,
      "outputs": [
        {
          "output_type": "stream",
          "text": [
            "Мин. аномальная интенсивность (В сторону -inf):  -313.112094743608 Мин. аномальная интенсивность (В сторону +inf):  426.6359042674175\n",
            "Найдена аномалия:  600  производится перерасчет мин. аномальной интенсивности\n",
            "Мин. аномальная интенсивность (В сторону -inf):  -35.27495664738435 Мин. аномальная интенсивность (В сторону +inf):  94.47495664738435\n",
            "Найдена аномалия:  100  производится перерасчет мин. аномальной интенсивности\n",
            "Мин. аномальная интенсивность (В сторону -inf):  -18.366512256233033 Мин. аномальная интенсивность (В сторону +inf):  70.15598594044356\n",
            "Аномалий не найдено, финальные значения мин. аномальной интенсивности: -18.366512256233033 / 70.15598594044356\n",
            "Аномалии:  [600, 100]\n"
          ],
          "name": "stdout"
        }
      ]
    },
    {
      "cell_type": "code",
      "metadata": {
        "id": "LwQdZIPNFlXt",
        "colab_type": "code",
        "outputId": "b2a9eed4-deac-4527-d341-a6ef55118781",
        "colab": {
          "base_uri": "https://localhost:8080/",
          "height": 70
        }
      },
      "source": [
        "print('Аномалии: ', check_anomalies(data_3))"
      ],
      "execution_count": 14,
      "outputs": [
        {
          "output_type": "stream",
          "text": [
            "Мин. аномальная интенсивность (В сторону -inf):  -147.7832448622141 Мин. аномальная интенсивность (В сторону +inf):  267.4975305764998\n",
            "Аномалий не найдено, финальные значения мин. аномальной интенсивности: -147.7832448622141 / 267.4975305764998\n",
            "Аномалии:  []\n"
          ],
          "name": "stdout"
        }
      ]
    }
  ]
}