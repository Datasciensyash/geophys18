{
 "cells": [
  {
   "cell_type": "code",
   "execution_count": 1,
   "metadata": {},
   "outputs": [],
   "source": [
    "import numpy as np\n",
    "import matplotlib.pyplot as plt\n",
    "import math"
   ]
  },
  {
   "cell_type": "code",
   "execution_count": 2,
   "metadata": {},
   "outputs": [],
   "source": [
    "VP = lambda duvp, dupr: (duvp / dupr) * 100"
   ]
  },
  {
   "cell_type": "code",
   "execution_count": 3,
   "metadata": {},
   "outputs": [],
   "source": [
    "A = lambda dvp1, dvp2, dpr: ((dvp1 - dvp2) / dpr) * 100"
   ]
  },
  {
   "cell_type": "code",
   "execution_count": 4,
   "metadata": {},
   "outputs": [],
   "source": [
    "Astar = lambda a, p: a / p"
   ]
  },
  {
   "cell_type": "code",
   "execution_count": 5,
   "metadata": {},
   "outputs": [
    {
     "data": {
      "text/plain": [
       "(1.0986122886681098, -1.3367726468997532)"
      ]
     },
     "execution_count": 5,
     "metadata": {},
     "output_type": "execute_result"
    }
   ],
   "source": [
    "#math.log(15) - math.log(3) #= #b * math.log(0.3) - b\n",
    "#b = (math.log(15) - math.log(3)) / (math.log(0.3))\n",
    "#b\n",
    "a = math.log(3)\n",
    "b = (math.log(15) - math.log(3)) / math.log(0.3)\n",
    "a, b\n",
    "\n",
    "#Найти b от А\n",
    "#f(A, KF) = k * ln(A) + b * "
   ]
  },
  {
   "cell_type": "code",
   "execution_count": 6,
   "metadata": {},
   "outputs": [
    {
     "data": {
      "text/plain": [
       "(-0.21933375590642779, -1.3334985723098478)"
      ]
     },
     "execution_count": 6,
     "metadata": {},
     "output_type": "execute_result"
    }
   ],
   "source": [
    "b = (math.log(5) - math.log(1.5)) / (math.log(1.5) - math.log(3.7))\n",
    "a = math.log(1.5) / (b * math.log(4))\n",
    "a, b"
   ]
  },
  {
   "cell_type": "code",
   "execution_count": 7,
   "metadata": {},
   "outputs": [
    {
     "data": {
      "text/plain": [
       "(-0.19048759382435695, -1.5354346416400562)"
      ]
     },
     "execution_count": 7,
     "metadata": {},
     "output_type": "execute_result"
    }
   ],
   "source": []
  },
  {
   "cell_type": "code",
   "execution_count": 8,
   "metadata": {},
   "outputs": [],
   "source": [
    "# a(200) = 1.09\n",
    "# a(100) = -0.219\n"
   ]
  },
  {
   "cell_type": "code",
   "execution_count": 9,
   "metadata": {},
   "outputs": [
    {
     "name": "stderr",
     "output_type": "stream",
     "text": [
      "C:\\Users\\archy\\AppData\\Local\\Continuum\\anaconda3\\lib\\site-packages\\ipykernel_launcher.py:5: RuntimeWarning: divide by zero encountered in log\n",
      "  \"\"\"\n",
      "C:\\Users\\archy\\AppData\\Local\\Continuum\\anaconda3\\lib\\site-packages\\ipykernel_launcher.py:6: RuntimeWarning: divide by zero encountered in log\n",
      "  \n"
     ]
    },
    {
     "data": {
      "text/plain": [
       "[<matplotlib.lines.Line2D at 0x1c77680fc08>]"
      ]
     },
     "execution_count": 9,
     "metadata": {},
     "output_type": "execute_result"
    },
    {
     "data": {
      "image/png": "[encoded data removed]",
      "text/plain": [
       "<Figure size 432x288 with 1 Axes>"
      ]
     },
     "metadata": {
      "needs_background": "light"
     },
     "output_type": "display_data"
    }
   ],
   "source": [
    "import numpy as np\n",
    "import math\n",
    "import matplotlib.pyplot as plt\n",
    "x = np.linspace(0,100, 500)\n",
    "y1 = np.e ** ((np.log(x) + 1.098612288668109) / -1.3367726468997532)\n",
    "y2 = np.e ** ((np.log(x) + 0.21933375590642779) / -1.3367726468997532) #1.0986122886681098 - 1.3367726468997532 * x\n",
    "plt.plot(x, y1, 'r')\n",
    "plt.plot(x, y2, 'b')"
   ]
  },
  {
   "cell_type": "code",
   "execution_count": 10,
   "metadata": {},
   "outputs": [
    {
     "name": "stderr",
     "output_type": "stream",
     "text": [
      "C:\\Users\\archy\\AppData\\Local\\Continuum\\anaconda3\\lib\\site-packages\\ipykernel_launcher.py:6: RuntimeWarning: divide by zero encountered in log\n",
      "  \n",
      "C:\\Users\\archy\\AppData\\Local\\Continuum\\anaconda3\\lib\\site-packages\\ipykernel_launcher.py:11: RuntimeWarning: divide by zero encountered in log\n",
      "  # This is added back by InteractiveShellApp.init_path()\n",
      "C:\\Users\\archy\\AppData\\Local\\Continuum\\anaconda3\\lib\\site-packages\\ipykernel_launcher.py:16: RuntimeWarning: divide by zero encountered in log\n",
      "  app.launch_new_instance()\n"
     ]
    },
    {
     "data": {
      "text/plain": [
       "<matplotlib.legend.Legend at 0x1c77680fbc8>"
      ]
     },
     "execution_count": 10,
     "metadata": {},
     "output_type": "execute_result"
    },
    {
     "data": {
      "image/png": "[encoded data removed]",
      "text/plain": [
       "<Figure size 432x288 with 1 Axes>"
      ]
     },
     "metadata": {
      "needs_background": "light"
     },
     "output_type": "display_data"
    }
   ],
   "source": [
    "A = np.linspace(0, 10, 500)#np.array([0, 0.15, 0.3, 0.5, 1.0, 1.5, 2.0, 3.0, 5.0, 10.0])\n",
    "\n",
    "fig, ax = plt.subplots()\n",
    "\n",
    "a, b = (1.0986122886681098, -1.3367726468997532) #(-0.21933375590642779, -1.3334985723098478)\n",
    "KF = np.e ** (a + b * np.log(A))\n",
    "\n",
    "ax.plot(KF, A, 'b', label='100')\n",
    "\n",
    "a, b = (-0.21933375590642779, -1.3367726468997532)\n",
    "KF = np.e ** (a + b * np.log(A))\n",
    "\n",
    "ax.plot(KF, A, 'r', label='200')\n",
    "\n",
    "a, b = ((1.0986122886681098 -0.21933375590642779) / 2 , -1.3367726468997532)\n",
    "KF = np.e ** (a + b * np.log(A))\n",
    "\n",
    "ax.plot(KF, A, 'g', label='Predicted 150')\n",
    "\n",
    "\n",
    "\n",
    "ax.set_xscale('log')\n",
    "ax.set_yscale('log')\n",
    "plt.xlabel('KF')\n",
    "plt.ylabel('A')\n",
    "plt.legend()"
   ]
  },
  {
   "cell_type": "code",
   "execution_count": 17,
   "metadata": {},
   "outputs": [
    {
     "data": {
      "text/plain": [
       "(0.072375596353145, 55.778894472361806, -2.0, 0.6363636363636365)"
      ]
     },
     "execution_count": 17,
     "metadata": {},
     "output_type": "execute_result"
    }
   ],
   "source": [
    "#GRID_OPT\n",
    "OPT_K = np.linspace(0, 100, 200)\n",
    "OPT_C = np.linspace(-2, 2, 200)\n",
    "OPT_K2 = np.linspace(-1, 1, 100)\n",
    "\n",
    "p = np.array([200, 100, 50, ])\n",
    "b = np.array([-0.21933375590642779, 1.0986122886681098, 2.72927405])\n",
    "MIN_MSE = 10000\n",
    "for i in range(200):\n",
    "    for j in range(200):\n",
    "        for k in range(100):\n",
    "            MSE = np.mean((b - (np.e ** (OPT_K[i] / p) / OPT_K2[k] + OPT_C[j])) ** 2)\n",
    "            if MSE < MIN_MSE:\n",
    "                MIN_MSE = MSE\n",
    "                K, C, K2 = OPT_K[i], OPT_C[j], OPT_K2[k]\n",
    "MIN_MSE, K, C, K2\n",
    "            "
   ]
  },
  {
   "cell_type": "code",
   "execution_count": 18,
   "metadata": {},
   "outputs": [],
   "source": [
    "import math\n",
    "def solve_eq(A1, A2, KF1, KF2):\n",
    "    b = (math.log(KF1) - math.log(KF2)) / (math.log(A1) - math.log(A2))\n",
    "    b = math.log(KF1) / (b * math.log(A1))\n",
    "    return a, b"
   ]
  },
  {
   "cell_type": "code",
   "execution_count": 20,
   "metadata": {},
   "outputs": [
    {
     "data": {
      "text/plain": [
       "(-1.325815338544183, -83.27677380087079)"
      ]
     },
     "execution_count": 20,
     "metadata": {},
     "output_type": "execute_result"
    }
   ],
   "source": [
    "solve_eq(1.01, 0.3, 3, 15)"
   ]
  }
 ],
 "metadata": {
  "kernelspec": {
   "display_name": "Python 3",
   "language": "python",
   "name": "python3"
  },
  "language_info": {
   "codemirror_mode": {
    "name": "ipython",
    "version": 3
   },
   "file_extension": ".py",
   "mimetype": "text/x-python",
   "name": "python",
   "nbconvert_exporter": "python",
   "pygments_lexer": "ipython3",
   "version": "3.7.4"
  }
 },
 "nbformat": 4,
 "nbformat_minor": 2
}
